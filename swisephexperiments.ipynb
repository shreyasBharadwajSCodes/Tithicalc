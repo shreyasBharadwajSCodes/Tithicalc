{
 "cells": [
  {
   "cell_type": "code",
   "execution_count": 26,
   "id": "2dff9b0a",
   "metadata": {},
   "outputs": [],
   "source": [
    "from __future__ import division\n",
    "from math import ceil\n",
    "from collections import namedtuple as struct\n",
    "import swisseph as swe"
   ]
  },
  {
   "cell_type": "code",
   "execution_count": 2,
   "id": "c52ae6c7",
   "metadata": {},
   "outputs": [],
   "source": [
    "Date = struct('Date', ['year', 'month', 'day'])\n",
    "Place = struct('Place', ['latitude', 'longitude', 'timezone'])"
   ]
  },
  {
   "cell_type": "code",
   "execution_count": 3,
   "id": "ec256ae1",
   "metadata": {},
   "outputs": [],
   "source": [
    "sidereal_year = 365.256360417"
   ]
  },
  {
   "cell_type": "code",
   "execution_count": 4,
   "id": "8dd7457d",
   "metadata": {},
   "outputs": [],
   "source": [
    "_rise_flags = swe.BIT_DISC_CENTER + swe.BIT_NO_REFRACTION"
   ]
  },
  {
   "cell_type": "code",
   "execution_count": 5,
   "id": "a4fcb8de",
   "metadata": {},
   "outputs": [],
   "source": [
    "revati_359_50 = lambda: swe.set_sid_mode(swe.SIDM_USER, 1926892.343164331, 0)\n",
    "galc_cent_mid_mula = lambda: swe.set_sid_mode(swe.SIDM_USER, 1922011.128853056, 0)\n",
    "\n",
    "set_ayanamsa_mode = lambda: swe.set_sid_mode(swe.SIDM_LAHIRI)\n",
    "reset_ayanamsa_mode = lambda: swe.set_sid_mode(swe.SIDM_FAGAN_BRADLEY)"
   ]
  },
  {
   "cell_type": "code",
   "execution_count": 6,
   "id": "3d6e1d0d",
   "metadata": {},
   "outputs": [],
   "source": [
    "gregorian_to_jd = lambda date: swe.julday(date.year, date.month, date.day, 0.0)\n",
    "jd_to_gregorian = lambda jd: swe.revjul(jd, swe.GREG_CAL)"
   ]
  },
  {
   "cell_type": "code",
   "execution_count": 7,
   "id": "f5df5edd",
   "metadata": {},
   "outputs": [],
   "source": [
    "def to_dms_prec(deg):\n",
    "    d = int(deg)\n",
    "    mins = (deg - d) * 60\n",
    "    m = int(mins)\n",
    "    s = round((mins - m) * 60, 6)\n",
    "    return [d, m, s]"
   ]
  },
  {
   "cell_type": "code",
   "execution_count": 8,
   "id": "fafa0974",
   "metadata": {},
   "outputs": [],
   "source": [
    "def lunar_phase(jd):\n",
    "    solar_long = solar_longitude(jd)\n",
    "    lunar_long = lunar_longitude(jd)\n",
    "    moon_phase = (lunar_long - solar_long) % 360\n",
    "    return moon_phase"
   ]
  },
  {
   "cell_type": "code",
   "execution_count": 9,
   "id": "2a170bf8",
   "metadata": {},
   "outputs": [],
   "source": [
    "def nakshatra_pada(longitude):\n",
    "    one_star = (360 / 27) \n",
    "    one_pada = (360 / 108)\n",
    "    quotient = int(longitude / one_star)\n",
    "    reminder = (longitude - quotient * one_star)\n",
    "    pada = int(reminder / one_pada)\n",
    "    return [1 + quotient, 1 + pada]"
   ]
  },
  {
   "cell_type": "code",
   "execution_count": 10,
   "id": "5b05494c",
   "metadata": {},
   "outputs": [],
   "source": [
    "def sidereal_longitude(jd, planet):\n",
    "    set_ayanamsa_mode()\n",
    "    longi = swe.calc_ut(jd, planet, swe.FLG_SWIEPH | swe.FLG_SIDEREAL)\n",
    "    reset_ayanamsa_mode()\n",
    "    return longi[0][0] % 360 # degrees\n",
    "\n",
    "solar_longitude = lambda jd: sidereal_longitude(jd, swe.SUN)\n",
    "lunar_longitude = lambda jd: sidereal_longitude(jd, swe.MOON)"
   ]
  },
  {
   "cell_type": "code",
   "execution_count": 11,
   "id": "a8c7223d",
   "metadata": {},
   "outputs": [],
   "source": [
    "def sunset(jd, place):\n",
    "    lat, lon, tz = place\n",
    "    result = swe.rise_trans(jd - tz/24, swe.SUN, lon, lat, rsmi = _rise_flags + swe.CALC_SET)\n",
    "    setting = result[1][0]\n",
    "    return [setting + tz/24., to_dms((setting - jd) * 24 + tz)]"
   ]
  },
  {
   "cell_type": "code",
   "execution_count": 12,
   "id": "d31476f8",
   "metadata": {},
   "outputs": [],
   "source": [
    "def moonrise(jd, place):\n",
    "    lat, lon, tz = place\n",
    "    result = swe.rise_trans(jd - tz/24, swe.MOON, lon, lat, rsmi = _rise_flags + swe.CALC_RISE)\n",
    "    rise = result[1][0]\n",
    "    return to_dms((rise - jd) * 24 + tz)"
   ]
  },
  {
   "cell_type": "code",
   "execution_count": 13,
   "id": "1719b601",
   "metadata": {},
   "outputs": [],
   "source": [
    "def moonset(jd, place):\n",
    "    lat, lon, tz = place\n",
    "    result = swe.rise_trans(jd - tz/24, swe.MOON, lon, lat, rsmi = _rise_flags + swe.CALC_SET)\n",
    "    setting = result[1][0]\n",
    "    return to_dms((setting - jd) * 24 + tz)"
   ]
  },
  {
   "cell_type": "code",
   "execution_count": 14,
   "id": "7f666466",
   "metadata": {},
   "outputs": [],
   "source": [
    "def to_dms(deg):\n",
    "    d, m, s = to_dms_prec(deg)\n",
    "    return [d, m, int(s)]"
   ]
  },
  {
   "cell_type": "code",
   "execution_count": 15,
   "id": "4cb5fa03",
   "metadata": {},
   "outputs": [],
   "source": [
    "def unwrap_angles(angles):\n",
    "    result = angles\n",
    "    for i in range(1, len(angles)):\n",
    "        if result[i] < result[i-1]: result[i] += 360\n",
    "    assert(result == sorted(result))\n",
    "    return result\n",
    "\n",
    "norm180 = lambda angle: (angle - 360) if angle >= 180 else angle;\n",
    "\n",
    "norm360 = lambda angle: angle % 360"
   ]
  },
  {
   "cell_type": "code",
   "execution_count": 16,
   "id": "ea14b7c9",
   "metadata": {},
   "outputs": [],
   "source": [
    "def inverse_lagrange(x, y, ya):\n",
    "    assert(len(x) == len(y))\n",
    "    total = 0\n",
    "    for i in range(len(x)):\n",
    "        numer = 1\n",
    "        denom = 1\n",
    "        for j in range(len(x)):\n",
    "            if j != i:\n",
    "                numer *= (ya - y[j])\n",
    "                denom *= (y[i] - y[j])\n",
    "        total += numer * x[i] / denom\n",
    "\n",
    "    return total"
   ]
  },
  {
   "cell_type": "code",
   "execution_count": 17,
   "id": "c9751c83",
   "metadata": {},
   "outputs": [],
   "source": [
    "def tithi(jd, place):\n",
    "    tz = place.timezone\n",
    "    rise = sunrise(jd, place)[0] - tz / 24\n",
    "    moon_phase = lunar_phase(rise)\n",
    "    today = ceil(moon_phase / 12)\n",
    "    degrees_left = today * 12 - moon_phase\n",
    "    offsets = [0.25, 0.5, 0.75, 1.0]\n",
    "    lunar_long_diff = [ (lunar_longitude(rise + t) - lunar_longitude(rise)) % 360 for t in offsets ]\n",
    "    solar_long_diff = [ (solar_longitude(rise + t) - solar_longitude(rise)) % 360 for t in offsets ]\n",
    "    relative_motion = [ moon - sun for (moon, sun) in zip(lunar_long_diff, solar_long_diff) ]\n",
    "    y = relative_motion\n",
    "    x = offsets\n",
    "    approx_end = inverse_lagrange(x, y, degrees_left)\n",
    "    ends = (rise + approx_end -jd) * 24 + tz\n",
    "    answer = [int(today), to_dms(ends)]\n",
    "    moon_phase_tmrw = lunar_phase(rise + 1)\n",
    "    tomorrow = ceil(moon_phase_tmrw / 12)\n",
    "    isSkipped = (tomorrow - today) % 30 > 1\n",
    "    if isSkipped:\n",
    "        leap_tithi = today + 1\n",
    "        degrees_left = leap_tithi * 12 - moon_phase\n",
    "        approx_end = inverse_lagrange(x, y, degrees_left)\n",
    "        ends = (rise + approx_end -jd) * 24 + place.timezone\n",
    "        leap_tithi = 1 if today == 30 else leap_tithi\n",
    "        answer += [int(leap_tithi), to_dms(ends)]\n",
    "    return answer"
   ]
  },
  {
   "cell_type": "code",
   "execution_count": 18,
   "id": "9fbe6d7b",
   "metadata": {},
   "outputs": [],
   "source": [
    "def nakshatra(jd, place):\n",
    "    lat, lon, tz = place\n",
    "    rise = sunrise(jd, place)[0] - tz / 24\n",
    "    offsets = [0.0, 0.25, 0.5, 0.75, 1.0]\n",
    "    longitudes = [ lunar_longitude(rise + t) for t in offsets]\n",
    "    nak = ceil(longitudes[0] * 27 / 360)\n",
    "    y = unwrap_angles(longitudes)\n",
    "    x = offsets\n",
    "    approx_end = inverse_lagrange(x, y, nak * 360 / 27)\n",
    "    ends = (rise - jd + approx_end) * 24 + tz\n",
    "    answer = [int(nak), to_dms(ends)]\n",
    "    nak_tmrw = ceil(longitudes[-1] * 27 / 360)\n",
    "    isSkipped = (nak_tmrw - nak) % 27 > 1\n",
    "    if isSkipped:\n",
    "        leap_nak = nak + 1\n",
    "        approx_end = inverse_lagrange(offsets, longitudes, leap_nak * 360 / 27)\n",
    "        ends = (rise - jd + approx_end) * 24 + tz\n",
    "        leap_nak = 1 if nak == 27 else leap_nak\n",
    "        answer += [int(leap_nak), to_dms(ends)]\n",
    "    return answer"
   ]
  },
  {
   "cell_type": "code",
   "execution_count": 19,
   "id": "8bc22c00",
   "metadata": {},
   "outputs": [],
   "source": [
    "def vaara(jd):\n",
    "    return int(ceil(jd + 1) % 7)"
   ]
  },
  {
   "cell_type": "code",
   "execution_count": 20,
   "id": "7f2033a6",
   "metadata": {},
   "outputs": [],
   "source": [
    "'''\n",
    "def nakshatra(jd, place):\n",
    "    lat, lon, tz = place\n",
    "    rise = sunrise(jd, place)[0] - tz / 24\n",
    "    offsets = [0.0, 0.25, 0.5, 0.75, 1.0]\n",
    "    longitudes = [ lunar_longitude(rise + t) for t in offsets]\n",
    "    nak = ceil(longitudes[0] * 27 / 360)\n",
    "    y = unwrap_angles(longitudes)\n",
    "    x = offsets\n",
    "    approx_end = inverse_lagrange(x, y, nak * 360 / 27)\n",
    "    ends = (rise - jd + approx_end) * 24 + tz\n",
    "    answer = [int(nak), to_dms(ends)]\n",
    "    nak_tmrw = ceil(longitudes[-1] * 27 / 360)\n",
    "    isSkipped = (nak_tmrw - nak) % 27 > 1\n",
    "    if isSkipped:\n",
    "        leap_nak = nak + 1\n",
    "        approx_end = inverse_lagrange(offsets, longitudes, leap_nak * 360 / 27)\n",
    "        ends = (rise - jd + approx_end) * 24 + tz\n",
    "        leap_nak = 1 if nak == 27 else leap_nak\n",
    "        answer += [int(leap_nak), to_dms(ends)]\n",
    "\n",
    "    return answer\n",
    "'''"
   ]
  },
  {
   "cell_type": "markdown",
   "id": "0b07cef4",
   "metadata": {},
   "source": [
    "# Tests below"
   ]
  },
  {
   "cell_type": "code",
   "execution_count": 21,
   "id": "0c8184e1",
   "metadata": {},
   "outputs": [],
   "source": [
    "nagpur = Place(21.1458, 79.0882, +5.5) #\n",
    "date1 = gregorian_to_jd(Date(2023, 1, 5)) #yyyy, mm, dd"
   ]
  },
  {
   "cell_type": "code",
   "execution_count": 22,
   "id": "7aeb6a1e",
   "metadata": {},
   "outputs": [],
   "source": [
    "def tithi_tests():\n",
    "    #print(sys._getframe().f_code.co_name)\n",
    "    print(tithi(date1, nagpur))\n",
    "    return"
   ]
  },
  {
   "cell_type": "code",
   "execution_count": 23,
   "id": "29ae8af8",
   "metadata": {},
   "outputs": [],
   "source": [
    "def sunrise(jd, place):\n",
    "    lat, lon, tz = place\n",
    "    #result = swe.rise_trans(jd - tz/24, swe.SUN, lon, lat, rsmi = _rise_flags + swe.CALC_RISE)\n",
    "    geop = (lon,lat,0)\n",
    "    result = swe.rise_trans(jd - tz/24, swe.SUN,_rise_flags + swe.CALC_RISE,geop)\n",
    "    rise = result[1][0]\n",
    "    return [rise + tz/24., to_dms((rise - jd) * 24 + tz)]"
   ]
  },
  {
   "cell_type": "code",
   "execution_count": 24,
   "id": "08d03a32",
   "metadata": {
    "scrolled": true
   },
   "outputs": [
    {
     "name": "stdout",
     "output_type": "stream",
     "text": [
      "[13, [14, 7, 44]]\n"
     ]
    }
   ],
   "source": [
    "tithi_tests()"
   ]
  },
  {
   "cell_type": "code",
   "execution_count": null,
   "id": "c4ac074b",
   "metadata": {},
   "outputs": [],
   "source": []
  }
 ],
 "metadata": {
  "kernelspec": {
   "display_name": "Python 3 (ipykernel)",
   "language": "python",
   "name": "python3"
  },
  "language_info": {
   "codemirror_mode": {
    "name": "ipython",
    "version": 3
   },
   "file_extension": ".py",
   "mimetype": "text/x-python",
   "name": "python",
   "nbconvert_exporter": "python",
   "pygments_lexer": "ipython3",
   "version": "3.9.12"
  }
 },
 "nbformat": 4,
 "nbformat_minor": 5
}
